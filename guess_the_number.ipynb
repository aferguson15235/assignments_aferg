{
 "cells": [
  {
   "cell_type": "code",
   "execution_count": 2,
   "metadata": {},
   "outputs": [
    {
     "name": "stdout",
     "output_type": "stream",
     "text": [
      "Please enter a whole number\n",
      "Please enter a whole number\n",
      "Please enter a whole number\n",
      "Please enter a whole number\n",
      "Please enter a whole number\n",
      "Please enter a whole number\n",
      "Please enter a whole number\n",
      "Please enter a whole number\n",
      "Please enter a whole number\n",
      "Please enter a whole number\n",
      "Please enter a whole number\n",
      "You got it\n"
     ]
    }
   ],
   "source": [
    "# first import the random module to access the randint function\n",
    "import random\n",
    "\n",
    "# choose a random number for us to guess\n",
    "number = random.randint(1, 6)\n",
    "\n",
    "# indefinite loop while the user is guessing the number \n",
    "while True:\n",
    "    guess = input(\"Guess a number\")\n",
    "    # using a try block to handle the error in case the user enters something that is not an integer\n",
    "    try:\n",
    "        # attempt to convert the string into an integer\n",
    "        guess = int(guess)\n",
    "    except:\n",
    "        # if it was not possible to convert the string into an integer, displays an error message and restarts the loop\n",
    "        print(\"Please enter a whole number\")\n",
    "        continue\n",
    "    # once the user enters an integer, compares with the number to guess \n",
    "    if guess > number:\n",
    "        print(\"Too high! Try again!\")\n",
    "        continue\n",
    "    if guess < number:\n",
    "        print(\"Too low! Try again!\")\n",
    "        continue\n",
    "    break\n",
    "\n",
    "# once the user guesses the number, the loop breaks and it prints an appropriate response\n",
    "print(\"You got it\")\n",
    "\n",
    "\n"
   ]
  }
 ],
 "metadata": {
  "kernelspec": {
   "display_name": "Python 3",
   "language": "python",
   "name": "python3"
  },
  "language_info": {
   "codemirror_mode": {
    "name": "ipython",
    "version": 3
   },
   "file_extension": ".py",
   "mimetype": "text/x-python",
   "name": "python",
   "nbconvert_exporter": "python",
   "pygments_lexer": "ipython3",
   "version": "3.12.6"
  }
 },
 "nbformat": 4,
 "nbformat_minor": 2
}
