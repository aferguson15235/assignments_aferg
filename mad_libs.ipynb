{
 "cells": [
  {
   "cell_type": "code",
   "execution_count": 8,
   "metadata": {},
   "outputs": [
    {
     "name": "stdout",
     "output_type": "stream",
     "text": [
      "The green frog was reading just before noon when all of a sudden, the car burst in and jumped noisily.\n",
      "The green frog was confused at the sight of this and stopped what it was doing. This annoyed the green frog, it always spent time reading right past noon every day.\n"
     ]
    }
   ],
   "source": [
    "# ask user to input a variety of words. for each word examples are given to illustrate the kind of word we need for the story to make sense grammatically.\n",
    "# input function outputs a string which is perfect for our use case, no conversion is necessary.\n",
    "noun = input(\"Please enter a singular noun. (e.g. house, cat or phone)\")\n",
    "noun2 = input(\"Please enter a singular noun. (e.g. house, cat or phone)\")\n",
    "time = input(\"Please enter a time of day. (e.g. 4pm, noon, sunrise)\")\n",
    "verb = input(\"Please enter a verb. (e.g. swimming, playing, eating)\")\n",
    "verb_past_tense = input(\"Please enter a past-tense verb. (e.g. swam, played, ate)\")\n",
    "adjective = input(\"Please enter an adjective. (e.g. red, nice, boisterous)\")\n",
    "adverb = input(\"Please enter an adverb. (e.g. noisily, busily, quickly)\")\n",
    "\n",
    "# use an f-string to concatenate all our variables in the right places in the sentence. \n",
    "# print the f-string to the user, telling them the mad-lib story.\n",
    "print(f\"The {adjective} {noun} was {verb} just before {time} when all of a sudden, the {noun2} burst in and {verb_past_tense} {adverb}.\")\n",
    "print(f\"The {adjective} {noun} was confused at the sight of this and stopped what it was doing. This annoyed the {adjective} {noun}, it always spent time {verb} right past {time} every day.\")\n",
    "\n"
   ]
  }
 ],
 "metadata": {
  "kernelspec": {
   "display_name": "Python 3",
   "language": "python",
   "name": "python3"
  },
  "language_info": {
   "codemirror_mode": {
    "name": "ipython",
    "version": 3
   },
   "file_extension": ".py",
   "mimetype": "text/x-python",
   "name": "python",
   "nbconvert_exporter": "python",
   "pygments_lexer": "ipython3",
   "version": "3.12.6"
  }
 },
 "nbformat": 4,
 "nbformat_minor": 2
}
